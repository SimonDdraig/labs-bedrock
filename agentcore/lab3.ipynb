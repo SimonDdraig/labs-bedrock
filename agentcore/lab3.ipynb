{
 "cells": [
  {
   "cell_type": "markdown",
   "metadata": {},
   "source": [
    "# <span style=\"color:DarkSeaGreen\">Lab 3 - AgentCore</span>\n",
    "- this notebook creates the following:\n",
    "  - AgentCore environment to deploy the Strands Agents\n",
    "    - Uses the Amazon Bedrock AgentCore starter toolkit\n",
    "\n",
    "  - it shows you how to use the Amazon Bedrock AgentCore starter toolkit to deploy an agent to an AgentCore Runtime.\n",
    "  - the starter toolkit is a Command Line Interface (CLI) toolkit that you can use to deploy AI agents to an AgentCore Runtime. You can use the toolkit with popular Python agent frameworks, such as LangGraph or Strands Agents. \n",
    "  - this workshops conitines with the Strands Agents created in lab 2\n",
    "\n",
    "- Prerequisites:\n",
    "  - https://aws.github.io/bedrock-agentcore-starter-toolkit/user-guide/runtime/quickstart.html\n",
    "  - Model Access: Anthropic Claude Sonnet 4.0"
   ]
  },
  {
   "cell_type": "code",
   "execution_count": null,
   "metadata": {
    "vscode": {
     "languageId": "shellscript"
    }
   },
   "outputs": [],
   "source": [
    "### START ###\n",
    "### MAKE SURE YOU ARE IN THE RIGHT FOLDER WHERE THE REQUIREMENTS FILE IS LOCATED ###\n",
    "### COPY FROM HERE ONLY IF RUNNING AS ONE COPY AND PASTE ###\n",
    "# activate the virtual environment\n",
    "source venv-agentcore/bin/activate\n",
    "### COPY TO HERE ONLY IF RUNNING AS ONE COPY AND PASTE ###\n",
    "\n",
    "### STOP ###\n",
    "### MAKE SURE ABOVE VENV GETS ACTIVATED BEFORE RUNNING THE REST ###\n",
    "# install the required packages - may need to specify the path here if not in the correct folder in terminal window\n",
    "pip install -r requirements_lab3.txt\n",
    "# pip install -r Documents/github/labs-sagemaker/jumpstart/requirements_lab3.txt\n",
    "# verify the installation\n",
    "pip list\n",
    "\n",
    "### RESTART VSCODE TO PICKUP THE NEW VENV ###"
   ]
  },
  {
   "cell_type": "code",
   "execution_count": null,
   "metadata": {
    "vscode": {
     "languageId": "shellscript"
    }
   },
   "outputs": [],
   "source": [
    "### STOP ###\n",
    "### This command is for activating an environment that already exists, its for use in a terminal window if you need it ###\n",
    "source venv-agentcore/bin/activate\n",
    "pip list\n",
    "\n",
    "# use pip freeze if you prefer for friendly format\n",
    "### ALSO MAKE SURE YOU SELECT IT AS YOUR KERNEL FOR THIS JUPYTER NOTEBOOK ###"
   ]
  },
  {
   "cell_type": "markdown",
   "metadata": {},
   "source": [
    "# <span style=\"color:DarkSeaGreen\">AgentCore MCP Server</span>\n",
    "- If you are using an environment that supports use of MCP Servers, you can install the AgentCore MCP Server to provide natural language interfaces for AgentCore development\n",
    "- For example, this notebook was developed using the help of the AgentCore MCP Server by installing it into VSCode Amazon Q Chatbot\n",
    "- https://aws.amazon.com/blogs/machine-learning/accelerate-development-with-the-amazon-bedrock-agentcore-mcpserver/"
   ]
  },
  {
   "cell_type": "code",
   "execution_count": null,
   "metadata": {
    "vscode": {
     "languageId": "shellscript"
    }
   },
   "outputs": [],
   "source": [
    "Name: bedrock-agentcore-mcp-server\n",
    "Transport: stdio\n",
    "Command: uvx\n",
    "Arguments: awslabs.amazon-bedrock-agentcore-mcp-server@latest"
   ]
  },
  {
   "cell_type": "markdown",
   "metadata": {},
   "source": [
    "# Lab 3 Starts Here!"
   ]
  },
  {
   "cell_type": "markdown",
   "metadata": {},
   "source": [
    "# <span style=\"color:DarkSeaGreen\">AgentCore</span>"
   ]
  },
  {
   "cell_type": "markdown",
   "metadata": {},
   "source": [
    "- We will deploy the 4 Strands agents and the Strands orchestration agent into AgentCore\n",
    "  - We will use the Bedrock AgentCore Runtime starter toolkit\n",
    "- AgentCore hosts them as containerized applications\n",
    "  - Strands agents can be deployed to AgentCore as-is without converting them to Lambda functions\n",
    "  - AgentCore uses a different deployment model:\n",
    "    - Container-based deployment : Your Python scripts are packaged into containers and run on AgentCore Runtime\n",
    "    - No Lambda conversion needed : The agents run as containerized applications, not serverless functions\n",
    "    - Built-in orchestration : You can deploy multiple agents and route between them\n",
    "- Make sure you have the relevant IAM role and permnissions for the agent\n",
    "    - https://docs.aws.amazon.com/bedrock-agentcore/latest/devguide/runtime-permissions.html\n"
   ]
  },
  {
   "cell_type": "markdown",
   "metadata": {},
   "source": [
    "# <span style=\"color:DarkSeaGreen\">Setup</span>"
   ]
  },
  {
   "cell_type": "code",
   "execution_count": null,
   "metadata": {},
   "outputs": [],
   "source": [
    "# region - we use us-east-1 as Bedrock is limited in other reasons\n",
    "myRegion='us-east-1'\n",
    "\n",
    "# iam\n",
    "myRoleAgentCore=\"doit-agentcore-support-agentcore-role\"\n",
    "myPolicyAgentCore1=\"doit-agentcore-kb-support-agentcore-policy\"\n",
    "myRoleAgentCoreARN='RETRIEVED FROM ROLE BELOW ONCE CREATED'\n",
    "\n",
    "print ('✅ Done! Move to the next cell ->')"
   ]
  },
  {
   "cell_type": "code",
   "execution_count": null,
   "metadata": {},
   "outputs": [],
   "source": [
    "import boto3\n",
    "import json\n",
    "from certifi import where\n",
    "\n",
    "# Configure boto3 to use certifi's certificates\n",
    "sts_client = boto3.client('sts', verify=where())\n",
    "myAccountNumber = sts_client.get_caller_identity()[\"Account\"]\n",
    "print(myAccountNumber)\n",
    "print(sts_client.get_caller_identity()[\"Arn\"])\n",
    "\n",
    "print ('✅ Done! Move to the next cell ->')"
   ]
  },
  {
   "cell_type": "code",
   "execution_count": null,
   "metadata": {},
   "outputs": [],
   "source": [
    "# iam\n",
    "iam = boto3.client('iam', region_name=myRegion, verify=where())\n",
    "\n",
    "print ('✅ Done! Move to the next cell ->')"
   ]
  },
  {
   "cell_type": "code",
   "execution_count": null,
   "metadata": {},
   "outputs": [],
   "source": [
    "# define tags added to all services we create\n",
    "myTags = [\n",
    "    {\"Key\": \"env\", \"Value\": \"non_prod\"},\n",
    "    {\"Key\": \"owner\", \"Value\": \"doit_agentcore_lab\"},\n",
    "    {\"Key\": \"project\", \"Value\": \"doit_agentcore_crypto\"},\n",
    "    {\"Key\": \"author\", \"Value\": \"simon\"},\n",
    "]\n",
    "myTagsDct = {\n",
    "    \"env\": \"non_prod\",\n",
    "    \"owner\": \"doit_agentcore_lab\",\n",
    "    \"project\": \"doit_agentcore_crypto\",\n",
    "    \"author\": \"simon\",\n",
    "}\n",
    "\n",
    "print ('✅ Done! Move to the next cell ->')"
   ]
  },
  {
   "cell_type": "markdown",
   "metadata": {},
   "source": [
    "# <span style=\"color:DarkSeaGreen\">IAM</span>"
   ]
  },
  {
   "cell_type": "markdown",
   "metadata": {},
   "source": [
    "- agentcore iam\n",
    "  - https://docs.aws.amazon.com/bedrock-agentcore/latest/devguide/runtime-permissions.html\n",
    "- We only create the role required by AgentCore here\n",
    "  - To run agent or tool in AgentCore Runtime you need an AWS Identity and Access Management execution role\n",
    "  - The AgentCore Runtime execution role is an IAM role that AgentCore Runtime assumes to run an agent\n",
    "  - https://docs.aws.amazon.com/bedrock-agentcore/latest/devguide/runtime-permissions.html#runtime-permissions-execution\n",
    "- Check out the link if you need permissions for yourself to deploy to AgentCore\n",
    "  - https://docs.aws.amazon.com/bedrock-agentcore/latest/devguide/runtime-permissions.html#runtime-permissions-starter-toolkit"
   ]
  },
  {
   "cell_type": "code",
   "execution_count": null,
   "metadata": {},
   "outputs": [],
   "source": [
    "# define AgentCore Runtime execution json\n",
    "policyJson = {\n",
    "    \"Version\": \"2012-10-17\",\n",
    "    \"Statement\": [\n",
    "        {\n",
    "            \"Sid\": \"ECRImageAccess\",\n",
    "            \"Effect\": \"Allow\",\n",
    "            \"Action\": [\"ecr:BatchGetImage\", \"ecr:GetDownloadUrlForLayer\"],\n",
    "            \"Resource\": [f\"arn:aws:ecr:{myRegion}:{myAccountNumber}:repository/*\"],\n",
    "        },\n",
    "        {\n",
    "            \"Effect\": \"Allow\",\n",
    "            \"Action\": [\"logs:DescribeLogStreams\", \"logs:CreateLogGroup\"],\n",
    "            \"Resource\": [\n",
    "                f\"arn:aws:logs:{myRegion}:{myAccountNumber}:log-group:/aws/bedrock-agentcore/runtimes/*\"\n",
    "            ],\n",
    "        },\n",
    "        {\n",
    "            \"Effect\": \"Allow\",\n",
    "            \"Action\": [\"logs:DescribeLogGroups\"],\n",
    "            \"Resource\": [f\"arn:aws:logs:{myRegion}:{myAccountNumber}:log-group:*\"],\n",
    "        },\n",
    "        {\n",
    "            \"Effect\": \"Allow\",\n",
    "            \"Action\": [\"logs:CreateLogStream\", \"logs:PutLogEvents\"],\n",
    "            \"Resource\": [\n",
    "                f\"arn:aws:logs:{myRegion}:{myAccountNumber}:log-group:/aws/bedrock-agentcore/runtimes/*:log-stream:*\"\n",
    "            ],\n",
    "        },\n",
    "        {\n",
    "            \"Sid\": \"ECRTokenAccess\",\n",
    "            \"Effect\": \"Allow\",\n",
    "            \"Action\": [\"ecr:GetAuthorizationToken\"],\n",
    "            \"Resource\": \"*\",\n",
    "        },\n",
    "        {\n",
    "            \"Effect\": \"Allow\",\n",
    "            \"Action\": [\n",
    "                \"xray:PutTraceSegments\",\n",
    "                \"xray:PutTelemetryRecords\",\n",
    "                \"xray:GetSamplingRules\",\n",
    "                \"xray:GetSamplingTargets\",\n",
    "            ],\n",
    "            \"Resource\": [\"*\"],\n",
    "        },\n",
    "        {\n",
    "            \"Effect\": \"Allow\",\n",
    "            \"Resource\": \"*\",\n",
    "            \"Action\": \"cloudwatch:PutMetricData\",\n",
    "            \"Condition\": {\n",
    "                \"StringEquals\": {\"cloudwatch:namespace\": \"bedrock-agentcore\"}\n",
    "            },\n",
    "        },\n",
    "        {\n",
    "            \"Sid\": \"GetAgentAccessToken\",\n",
    "            \"Effect\": \"Allow\",\n",
    "            \"Action\": [\n",
    "                \"bedrock-agentcore:GetWorkloadAccessToken\",\n",
    "                \"bedrock-agentcore:GetWorkloadAccessTokenForJWT\",\n",
    "                \"bedrock-agentcore:GetWorkloadAccessTokenForUserId\",\n",
    "            ],\n",
    "            \"Resource\": [\n",
    "                f\"arn:aws:bedrock-agentcore:{myRegion}:{myAccountNumber}:workload-identity-directory/default\",\n",
    "                f\"arn:aws:bedrock-agentcore:{myRegion}:{myAccountNumber}:workload-identity-directory/default/workload-identity/agentName-*\",\n",
    "            ],\n",
    "        },\n",
    "        {\n",
    "            \"Sid\": \"BedrockModelInvocation\",\n",
    "            \"Effect\": \"Allow\",\n",
    "            \"Action\": [\"bedrock:InvokeModel\", \"bedrock:InvokeModelWithResponseStream\"],\n",
    "            \"Resource\": [\n",
    "                \"arn:aws:bedrock:*::foundation-model/*\",\n",
    "                f\"arn:aws:bedrock:{myRegion}:{myAccountNumber}:*\",\n",
    "            ],\n",
    "        },\n",
    "    ],\n",
    "}\n",
    "# create policy\n",
    "policy1 = iam.create_policy(\n",
    "    PolicyName=myPolicyAgentCore1,\n",
    "    PolicyDocument=json.dumps(policyJson),\n",
    "    Description=\"Policy allowing AgentCore Runtime to run agents\",\n",
    "    Tags=[\n",
    "        *myTags,\n",
    "    ],\n",
    ")\n",
    "\n",
    "# trust policy for the role\n",
    "roleTrust = {\n",
    "    \"Version\": \"2012-10-17\",\n",
    "    \"Statement\": [\n",
    "        {\n",
    "            \"Sid\": \"AssumeRolePolicy\",\n",
    "            \"Effect\": \"Allow\",\n",
    "            \"Principal\": {\"Service\": \"bedrock-agentcore.amazonaws.com\"},\n",
    "            \"Action\": \"sts:AssumeRole\",\n",
    "            \"Condition\": {\n",
    "                \"StringEquals\": {\"aws:SourceAccount\": f\"{myAccountNumber}\"},\n",
    "                \"ArnLike\": {\n",
    "                    f\"aws:SourceArn\": f\"arn:aws:bedrock-agentcore:{myRegion}:{myAccountNumber}:*\"\n",
    "                },\n",
    "            },\n",
    "        }\n",
    "    ],\n",
    "}\n",
    "\n",
    "# create role\n",
    "role = iam.create_role(\n",
    "    RoleName=myRoleAgentCore,\n",
    "    AssumeRolePolicyDocument=json.dumps(roleTrust),\n",
    "    Description=\"Service role for AgentCore Runtime\",\n",
    "    Tags=[\n",
    "        *myTags,\n",
    "    ],\n",
    ")\n",
    "\n",
    "# attach policies to role\n",
    "iam.attach_role_policy(\n",
    "    RoleName=role[\"Role\"][\"RoleName\"], PolicyArn=policy1[\"Policy\"][\"Arn\"]\n",
    ")\n",
    "myRoleAgentCoreARN = role[\"Role\"][\"Arn\"]\n",
    "\n",
    "print(f\"🧠 Created Role ARN, replace <♻️ myRoleAgentCoreARN> below with your role ARN: {myRoleAgentCoreARN}\")\n",
    "print(\"✅ Done! Move to the next cell ->\")"
   ]
  },
  {
   "cell_type": "markdown",
   "metadata": {},
   "source": [
    "# <span style=\"color:DarkSeaGreen\">Deployment of AgentCore</span>"
   ]
  },
  {
   "cell_type": "markdown",
   "metadata": {},
   "source": [
    "- Execute the following in a terminal window"
   ]
  },
  {
   "cell_type": "code",
   "execution_count": null,
   "metadata": {
    "vscode": {
     "languageId": "shellscript"
    }
   },
   "outputs": [],
   "source": [
    "# Either in a IDE terminal window, or your system terminal window, make sure the venv is activated\n",
    "# If in a system terminal window, you will need to navigate to the folder where the venv is located\n",
    "# eg typically labs-bedrock/agentcore\n",
    "# then run the command below to activate the venv\n",
    "source venv-agentcore/bin/activate"
   ]
  },
  {
   "cell_type": "code",
   "execution_count": null,
   "metadata": {
    "vscode": {
     "languageId": "shellscript"
    }
   },
   "outputs": [],
   "source": [
    "# Then cd to the agents folder\n",
    "cd agents"
   ]
  },
  {
   "cell_type": "markdown",
   "metadata": {},
   "source": [
    "- The following will:\n",
    "  - Generate a Dockerfile and .dockerignore\n",
    "  - Create a .bedrock_agentcore.yaml configuration file\n",
    "- ⚠️ If the CLI auth you are using is not in the environment where you want to deploy, make sure you specify the region as in below"
   ]
  },
  {
   "cell_type": "code",
   "execution_count": null,
   "metadata": {},
   "outputs": [],
   "source": [
    "### Step 1: Configure Your Customer Support Agent\n",
    "### https://aws.github.io/bedrock-agentcore-starter-toolkit/api-reference/cli.\n",
    "### https://strandsagents.com/latest/documentation/docs/user-guide/deploy/deploy_to_bedrock_agentcore/\n",
    "### Run this then copy the cell output to your terminal window to execute\n",
    "print(f\"agentcore configure --entrypoint Strands_Orchestration_Crypto_Agent.py -r {myRegion} -er {myRoleAgentCoreARN} --idle-timeout 300 --max-lifetime 900\")"
   ]
  },
  {
   "cell_type": "markdown",
   "metadata": {},
   "source": [
    " The following will:\n",
    "  - Deploy your agent to AgentCore Runtime\n",
    "    - Build a Docker image with your agent code\n",
    "    - Push the image to Amazon ECR\n",
    "    - Create a Bedrock AgentCore runtime\n",
    "    - Deploy your agent to the AgentCore Runtime"
   ]
  },
  {
   "cell_type": "code",
   "execution_count": null,
   "metadata": {
    "vscode": {
     "languageId": "shellscript"
    }
   },
   "outputs": [],
   "source": [
    "### NOTE FOR NOW!!!!\n",
    "### STOP STOP STOP ###\n",
    "### You need to manually edit the Dockerfile to add Node.js installation ###\n",
    "### STOP STOP STOP ###\n",
    "\n",
    "# Edit the Docckerfile to add Node.js installation as below\n",
    "# put it before the line that starts with \" # Signal that this is running in Docker for host binding logic\"\n",
    "\n",
    "# Install Node.js (LTS) and npx for MCP server usage required by one of the agent tools\n",
    "RUN apt-get update && apt-get install -y curl gnupg \\\n",
    "    && curl -fsSL https://deb.nodesource.com/setup_20.x | bash - \\\n",
    "    && apt-get install -y nodejs \\\n",
    "    && rm -rf /var/lib/apt/lists/*"
   ]
  },
  {
   "cell_type": "code",
   "execution_count": null,
   "metadata": {
    "vscode": {
     "languageId": "shellscript"
    }
   },
   "outputs": [],
   "source": [
    "### Step 2: Deploy Your Agent to AgentCore Runtime\n",
    "agentcore launch"
   ]
  },
  {
   "cell_type": "markdown",
   "metadata": {},
   "source": [
    "#### After successful deployment, verify your setup by following these steps:\n",
    "- Log in to the AWS Management Console\n",
    "  - Navigate to the Amazon Bedrock AgentCore service\n",
    "    - Confirm that your agent appears in the service dashboard\n",
    "  - Navigate to the S3 service\n",
    "    - See the new S3 bucket with your zip file of agent files\n",
    "  - Navigate to the ECS service\n",
    "    - In Repositories, see your ECR repo"
   ]
  },
  {
   "cell_type": "code",
   "execution_count": null,
   "metadata": {
    "vscode": {
     "languageId": "shellscript"
    }
   },
   "outputs": [],
   "source": [
    "### Step 3: Check its status, note memory can take a while, and observability may take a while longer\n",
    "agentcore status"
   ]
  },
  {
   "cell_type": "markdown",
   "metadata": {},
   "source": [
    "# <span style=\"color:DarkSeaGreen\">Invoke Your Agent</span>"
   ]
  },
  {
   "cell_type": "markdown",
   "metadata": {},
   "source": [
    "- You can execute via CLI or using boto3 as provided below"
   ]
  },
  {
   "cell_type": "code",
   "execution_count": null,
   "metadata": {
    "vscode": {
     "languageId": "shellscript"
    }
   },
   "outputs": [],
   "source": [
    "# random session id generator\n",
    "import time\n",
    "import random\n",
    "import string\n",
    "\n",
    "def generate_session_id(length=33):\n",
    "    \"\"\"\n",
    "    Generate a session ID based on the current timestamp + random characters.\n",
    "    \n",
    "    Example output: \"1738543290_ab4Xk2\"\n",
    "    \"\"\"\n",
    "    timestamp = int(time.time())  # current Unix timestamp\n",
    "    rand_chars = ''.join(random.choices(string.ascii_letters + string.digits, k=length))\n",
    "    return f\"{timestamp}_{rand_chars}\"\n"
   ]
  },
  {
   "cell_type": "code",
   "execution_count": null,
   "metadata": {},
   "outputs": [],
   "source": [
    "### Via CLI\n",
    "### Run this then copy the cell invokes (one at a time) to your terminal window to execute\n",
    "\n",
    "# lets create a random session id\n",
    "session_id = generate_session_id()\n",
    "\n",
    "# lets give it some info about me to test short term memory later\n",
    "user_query = \"Hello, my name is Simon, you should always try and reference my name when you answer me\"\n",
    "print(f\"agentcore invoke '{{\\\"prompt\\\": \\\"{user_query}\\\"}}' --session-id {session_id}\")\n",
    "\n",
    "# this should use the crypto_security_analyzer tool via its http_request strands tool\n",
    "user_query = \"How risky is the SHIBA token on Ethereum chain ID 1 with contract address 0x95aD61b0a150d79219dCF64E1E6Cc01f0B64C4cE\"\n",
    "print(f\"agentcore invoke '{{\\\"prompt\\\": \\\"{user_query}\\\"}}' --session-id {session_id}\")\n",
    "\n",
    "# this should use the crypto_market_analyst tool via its mcp client strands tool\n",
    "user_query = \"Can you tell me the current price of Bitcoin?\"\n",
    "print(f\"agentcore invoke '{{\\\"prompt\\\": \\\"{user_query}\\\"}}' --session-id {session_id}\")\n",
    "\n",
    "# this should use the crypto_educator tool via its retrieve strands tool\n",
    "user_query = \"What are the risks of investing in cryptocurrency?\"\n",
    "print(f\"agentcore invoke '{{\\\"prompt\\\": \\\"{user_query}\\\"}}' --session-id {session_id}\")\n",
    "\n",
    "# this should use the general_knowledge tool via its default llm\n",
    "user_query = \"What is the capital of Wales and how many mountains does Wales have?\"\n",
    "print(f\"agentcore invoke '{{\\\"prompt\\\": \\\"{user_query}\\\"}}' --session-id {session_id}\")\n",
    "\n",
    "user_query = \"Thank you, good talking with you\"\n",
    "print(f\"agentcore invoke '{{\\\"prompt\\\": \\\"{user_query}\\\"}}' --session-id {session_id}\")\n",
    "\n",
    "# stop the session to free resources and reduce costs\n",
    "# NOTE this command seems to have been deprecated but leaving here for now\n",
    "# Worst case, session will die after the idle-timeout configured above (eg 300 seconds = 5 minutes)\n",
    "print(f\"agentcore stop-session --session-id {session_id}\")\n"
   ]
  },
  {
   "cell_type": "markdown",
   "metadata": {},
   "source": [
    "### Now lets do the same but with boto3"
   ]
  },
  {
   "cell_type": "code",
   "execution_count": null,
   "metadata": {},
   "outputs": [],
   "source": [
    "# via boto3\n",
    "# get the arn of the agentcore runtime\n",
    "acc = boto3.client('bedrock-agentcore-control', region_name=myRegion, verify=where())\n",
    "ac = boto3.client('bedrock-agentcore', region_name=myRegion, verify=where())\n",
    "\n",
    "# lets get the arn of our agent core runtime - this assume you did not give it a custom name when you configured it!!!\n",
    "# so it looks for Strands_Orchestration in the name\n",
    "# https://boto3.amazonaws.com/v1/documentation/api/latest/reference/services/bedrock-agentcore-control/client/list_agent_runtimes.html\n",
    "runtimes = acc.list_agent_runtimes()\n",
    "strands_arns = [\n",
    "    rt['agentRuntimeArn'] \n",
    "    for rt in runtimes['agentRuntimes'] \n",
    "    if 'Strands_Orchestration' in rt['agentRuntimeArn']\n",
    "]\n",
    "agent_core_arn = strands_arns[0] if strands_arns else None\n",
    "\n",
    "if not agent_core_arn:\n",
    "    print(\"Error: Could not find AgentCore runtime ARN with 'Strands_Orchestration' in the name. Did you change it?\")\n",
    "else:\n",
    "    print(f\"Found AgentCore runtime ARN: {agent_core_arn}\")\n",
    "    print(\"✅ Done! Move to the next cell ->\")"
   ]
  },
  {
   "cell_type": "markdown",
   "metadata": {},
   "source": [
    "- you can change your query and run the cell below to invoke the agent as many times as you like\n",
    "- it will all be done within your session maintaining short term memory for the agent"
   ]
  },
  {
   "cell_type": "code",
   "execution_count": null,
   "metadata": {},
   "outputs": [],
   "source": [
    "session_id = generate_session_id()\n",
    "print(f\"Generated session ID: {session_id}\")\n",
    "print(\"You can use this to trace your session in CloudWatch logs and metrics.\")\n",
    "print(\"Under GenAI Observability, look for Bedrock AgentCore.\")\n",
    "\n",
    "print(\"✅ Done! Move to the next cell ->\")"
   ]
  },
  {
   "cell_type": "markdown",
   "metadata": {},
   "source": [
    "### You can rerun from here as much as you want changing the query below"
   ]
  },
  {
   "cell_type": "code",
   "execution_count": null,
   "metadata": {},
   "outputs": [],
   "source": [
    "my_query = \"What is the price of the top 5 coins\"\n",
    "print(\"✅ Done! Move to the next cell ->\")"
   ]
  },
  {
   "cell_type": "code",
   "execution_count": null,
   "metadata": {},
   "outputs": [],
   "source": [
    "if agent_core_arn:\n",
    "    # invoke the agent via boto3\n",
    "    # https://boto3.amazonaws.com/v1/documentation/api/latest/reference/services/bedrock-agentcore.html\n",
    "    response = ac.invoke_agent_runtime(\n",
    "        agentRuntimeArn=agent_core_arn,\n",
    "        payload=json.dumps({\"prompt\": my_query}),\n",
    "        runtimeSessionId=session_id\n",
    "    )\n",
    "    \n",
    "    # Process and print the response\n",
    "    if \"text/event-stream\" in response.get(\"contentType\", \"\"):\n",
    "        # Handle streaming response\n",
    "        content = []\n",
    "        for line in response[\"response\"].iter_lines(chunk_size=10):\n",
    "            if line:\n",
    "                line = line.decode(\"utf-8\")\n",
    "                if line.startswith(\"data: \"):\n",
    "                    line = line[6:]\n",
    "                    print(line)\n",
    "                    content.append(line)\n",
    "        print(\"\\nComplete response:\", \"\\n\".join(content))\n",
    "\n",
    "    elif response.get(\"contentType\") == \"application/json\":\n",
    "        # Handle standard JSON response\n",
    "        content = []\n",
    "        for chunk in response.get(\"response\", []):\n",
    "            content.append(chunk.decode('utf-8'))\n",
    "        print(json.loads(''.join(content)))\n",
    "    \n",
    "    else:\n",
    "        # Print raw response for other content types\n",
    "        print(response)\n",
    "\n",
    "print(\"✅ Done! Move to the next cell or change your query and run again ->\")"
   ]
  },
  {
   "cell_type": "markdown",
   "metadata": {},
   "source": [
    "# <span style=\"color:red\">NEED TO FIX THE MCP TOOL<BR>ITS ERRORING with below<br>if its errored or timed out previously:</span>\n",
    "Error: MCPClientInitializationError - the client session is currently running.\n",
    "\n",
    "PRobably due to the way the mcp is created in the tool and he use of WITH\n"
   ]
  },
  {
   "cell_type": "code",
   "execution_count": null,
   "metadata": {},
   "outputs": [],
   "source": [
    "# kill the session to free resources and reduce costs\n",
    "ac.stop_runtime_session(\n",
    "    agentRuntimeArn=agent_core_arn,\n",
    "    runtimeSessionId=session_id\n",
    ")"
   ]
  },
  {
   "cell_type": "markdown",
   "metadata": {},
   "source": [
    "# <span style=\"color:DarkSeaGreen\">Move to Lab 4</span>\n",
    "# <span style=\"color:DarkSeaGreen\">OR...</span>\n",
    "# <span style=\"color:DarkSeaGreen\">Clean Up Architecture</span>\n",
    "### <span style=\"color:Red\">Only do this if you have finished with this lab and any labs that depend on it!</span>\n",
    "##### It will delete all architecture created, make sure you no longer need any of it!!!"
   ]
  },
  {
   "cell_type": "code",
   "execution_count": null,
   "metadata": {
    "vscode": {
     "languageId": "powershell"
    }
   },
   "outputs": [],
   "source": [
    "### run in terminal window under venv\n",
    "# cleans up the resources created in the lab\n",
    "# but not the s3 bucket\n",
    "agentcore destroy"
   ]
  },
  {
   "cell_type": "code",
   "execution_count": null,
   "metadata": {},
   "outputs": [],
   "source": [
    "# delete roles and policies\n",
    "try:\n",
    "    iam.detach_role_policy(\n",
    "        RoleName=myPolicyAgentCore1, PolicyArn='arn:aws:iam::{}:policy/{}'.format(myAccountNumber, myRoleAgentCore)\n",
    "    )\n",
    "except Exception as e:\n",
    "    print(f\"Error detaching policy: {e}\")   \n",
    "    print(f\"Deleted when you destroyed the AgentCore runtime using 'agentcore destroy' command\")   \n",
    "\n",
    "try:\n",
    "    iam.delete_role(RoleName=myRoleAgentCore)\n",
    "except Exception as e:\n",
    "    print(f\"Error deleting role: {e}\")    \n",
    "    print(f\"Deleted when you destroyed the AgentCore runtime using 'agentcore destroy' command\")   \n",
    "\n",
    "try:\n",
    "    iam.delete_policy(PolicyArn='arn:aws:iam::{}:policy/{}'.format(myAccountNumber, myPolicyAgentCore1))\n",
    "except Exception as e:\n",
    "    print(f\"Error deleting policy: {e}\")    \n",
    "    print(f\"Deleted when you destroyed the AgentCore runtime using 'agentcore destroy' command\")   \n",
    "\n",
    "print ('✅ Done! You have cleaned up the IAM role and policy created for AgentCore runtime')"
   ]
  }
 ],
 "metadata": {
  "kernelspec": {
   "display_name": "venv-agentcore (3.13.7)",
   "language": "python",
   "name": "python3"
  },
  "language_info": {
   "codemirror_mode": {
    "name": "ipython",
    "version": 3
   },
   "file_extension": ".py",
   "mimetype": "text/x-python",
   "name": "python",
   "nbconvert_exporter": "python",
   "pygments_lexer": "ipython3",
   "version": "3.13.7"
  }
 },
 "nbformat": 4,
 "nbformat_minor": 2
}
