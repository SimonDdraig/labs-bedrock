{
 "cells": [
  {
   "cell_type": "markdown",
   "metadata": {},
   "source": [
    "# <span style=\"color:DarkSeaGreen\">Lab 3 - AgentCore</span>\n",
    "- this notebook creates the following:\n",
    "  - AgentCore environment to deploy the Strands Agents"
   ]
  },
  {
   "cell_type": "code",
   "execution_count": null,
   "metadata": {
    "vscode": {
     "languageId": "shellscript"
    }
   },
   "outputs": [],
   "source": [
    "### START ###\n",
    "### MAKE SURE YOU ARE IN THE RIGHT FOLDER WHERE THE REQUIREMENTS FILE IS LOCATED ###\n",
    "### COPY FROM HERE ONLY IF RUNNING AS ONE COPY AND PASTE ###\n",
    "# activate the virtual environment\n",
    "source venv-agentcore/bin/activate\n",
    "### COPY TO HERE ONLY IF RUNNING AS ONE COPY AND PASTE ###\n",
    "\n",
    "### STOP ###\n",
    "### MAKE SURE ABOVE VENV GETS ACTIVATED BEFORE RUNNING THE REST ###\n",
    "# install the required packages - may need to specify the path here if not in the correct folder in terminal window\n",
    "pip install -r requirements_lab3.txt\n",
    "# pip install -r Documents/github/labs-sagemaker/jumpstart/requirements_lab3.txt\n",
    "# verify the installation\n",
    "pip list\n",
    "\n",
    "### RESTART VSCODE TO PICKUP THE NEW VENV ###"
   ]
  },
  {
   "cell_type": "code",
   "execution_count": null,
   "metadata": {
    "vscode": {
     "languageId": "shellscript"
    }
   },
   "outputs": [],
   "source": [
    "### STOP ###\n",
    "### This command is for activating an environment that already exists, its for use in a terminal window if you need it ###\n",
    "source venv-agentcore/bin/activate\n",
    "pip list\n",
    "\n",
    "# use pip freeze if you prefer for friendly format\n",
    "### ALSO MAKE SURE YOU SELECT IT AS YOUR KERNEL FOR THIS JUPYTER NOTEBOOK ###"
   ]
  },
  {
   "cell_type": "markdown",
   "metadata": {},
   "source": [
    "# <span style=\"color:DarkSeaGreen\">AgentCore MCP Server</span>\n",
    "- If you are using an environment that supports use of MCP Servers, you can install the AgentCore MCP Server to provide natural language interfaces for AgentCore development\n",
    "- For example, this notebook was developed using the help of the AgentCore MCP Server by installing it into VSCode Amazon Q Chatbot\n",
    "- https://aws.amazon.com/blogs/machine-learning/accelerate-development-with-the-amazon-bedrock-agentcore-mcpserver/"
   ]
  },
  {
   "cell_type": "code",
   "execution_count": null,
   "metadata": {
    "vscode": {
     "languageId": "shellscript"
    }
   },
   "outputs": [],
   "source": [
    "Name: bedrock-agentcore-mcp-server\n",
    "Transport: stdio\n",
    "Command: uvx\n",
    "Arguments: awslabs.amazon-bedrock-agentcore-mcp-server@latest"
   ]
  },
  {
   "cell_type": "markdown",
   "metadata": {},
   "source": [
    "# Lab 3 Starts Here!"
   ]
  },
  {
   "cell_type": "markdown",
   "metadata": {},
   "source": [
    "# <span style=\"color:DarkSeaGreen\">AgentCore</span>"
   ]
  },
  {
   "cell_type": "markdown",
   "metadata": {},
   "source": [
    "- We will deploy the 4 Strands agents and the Strands orchestration agent into AgentCore\n",
    "- We will use the AgentCore Python SDK to do this via boto3\n",
    "- AgentCore hosts them as containerized applications\n",
    "  - Strands agents can be deployed to AgentCore as-is without converting them to Lambda functions. AgentCore uses a different deployment model:\n",
    "    - Container-based deployment : Your Python scripts are packaged into containers and run on AgentCore Runtime\n",
    "    - No Lambda conversion needed : The agents run as containerized applications, not serverless functions\n",
    "    - Built-in orchestration : You can deploy multiple agents and route between them\n",
    "\n"
   ]
  },
  {
   "cell_type": "code",
   "execution_count": null,
   "metadata": {},
   "outputs": [],
   "source": []
  }
 ],
 "metadata": {
  "kernelspec": {
   "display_name": "venv-agentcore (3.13.7)",
   "language": "python",
   "name": "python3"
  },
  "language_info": {
   "codemirror_mode": {
    "name": "ipython",
    "version": 3
   },
   "file_extension": ".py",
   "mimetype": "text/x-python",
   "name": "python",
   "nbconvert_exporter": "python",
   "pygments_lexer": "ipython3",
   "version": "3.13.7"
  }
 },
 "nbformat": 4,
 "nbformat_minor": 2
}
