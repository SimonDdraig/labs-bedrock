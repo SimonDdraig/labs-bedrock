{
 "cells": [
  {
   "cell_type": "markdown",
   "metadata": {},
   "source": [
    "# <span style=\"color:DarkSeaGreen\">Lab 2 - Strands Agents</span>\n",
    "- this notebook creates the following:\n",
    "  - Adds to the venv you created in lab 1 requirements found in requirements_lab2.txt\n",
    "- Instructs you on how to test your agents\n",
    "\n",
    "### NOTE\n",
    "- Make sure you edit the config.py file with the ID of the knowledge base you created in lab 1!\n",
    "  - Find this comment in lab 1 to find your KB ID:\n",
    "    - *You will need this KB ID in the next lab, make a note of it*"
   ]
  },
  {
   "cell_type": "code",
   "execution_count": null,
   "metadata": {
    "vscode": {
     "languageId": "shellscript"
    }
   },
   "outputs": [],
   "source": [
    "### NODE JS REQD SYSTEM WIDE ###\n",
    "# Ensure you have Node.js installed system-wide\n",
    "# Deactivate your venv if it is active to check this\n",
    "# In a terminal window, run the following command:\n",
    "brew list node\n",
    "npx -v\n",
    "node -v\n",
    "# If you see version numbers, you're good to go.\n",
    "# If you see \"command not found\", you need to install Node.js system-wide.\n",
    "# This is outside of your Python virtual environment (venv).\n",
    "# We need it to access the npx command for mcp servers used by this lab\n",
    "# If you don't have Node.js installed, deactivate your venv if it is active, and run the following command in a terminal window:\n",
    "brew install node"
   ]
  },
  {
   "cell_type": "code",
   "execution_count": null,
   "metadata": {
    "vscode": {
     "languageId": "shellscript"
    }
   },
   "outputs": [],
   "source": [
    "### START ###\n",
    "### MAKE SURE YOU ARE IN THE RIGHT FOLDER WHERE THE REQUIREMENTS FILE IS LOCATED ###\n",
    "### COPY FROM HERE ONLY IF RUNNING AS ONE COPY AND PASTE ###\n",
    "# activate the virtual environment\n",
    "source venv-agentcore/bin/activate\n",
    "### COPY TO HERE ONLY IF RUNNING AS ONE COPY AND PASTE ###\n",
    "\n",
    "### STOP ###\n",
    "### MAKE SURE ABOVE VENV GETS ACTIVATED BEFORE RUNNING THE REST ###\n",
    "# install the required packages - may need to specify the path here if not in the correct folder in terminal window\n",
    "pip install -r requirements_lab2.txt\n",
    "# pip install -r Documents/github/labs-sagemaker/jumpstart/requirements_lab2.txt\n",
    "# verify the installation\n",
    "pip list\n",
    "\n",
    "### RESTART VSCODE TO PICKUP THE NEW VENV ###"
   ]
  },
  {
   "cell_type": "code",
   "execution_count": null,
   "metadata": {
    "vscode": {
     "languageId": "shellscript"
    }
   },
   "outputs": [],
   "source": [
    "### STOP ###\n",
    "### This command is for activating an environment that already exists, its for use in a terminal window if you need it ###\n",
    "source venv-agentcore/bin/activate\n",
    "pip list\n",
    "\n",
    "# use pip freeze if you prefer for friendly format"
   ]
  },
  {
   "cell_type": "markdown",
   "metadata": {},
   "source": [
    "# Lab 2 Starts Here!"
   ]
  },
  {
   "cell_type": "markdown",
   "metadata": {},
   "source": [
    "- Demonstrate use of Strands agents\n",
    "  - Agent which uses the Bedrock knowledge base created in lab 1 (Strands_Agent_KB_Bedrock.py)\n",
    "  - Agent which calls an API (Strands_Agent_API.py)\n",
    "  - Agent which calls an MCP (Strands_Agent_MCP_CoinGecko.py)\n",
    "  - Agent which calls Bedrock ffm (Strands_Agent_General.py)"
   ]
  },
  {
   "cell_type": "markdown",
   "metadata": {},
   "source": [
    "# <span style=\"color:DarkSeaGreen\">Test the Strands Multi Agent</span>"
   ]
  },
  {
   "cell_type": "code",
   "execution_count": null,
   "metadata": {
    "vscode": {
     "languageId": "shellscript"
    }
   },
   "outputs": [],
   "source": [
    "# Either in a IDE terminal window, or your system terminal window, make sure the venv is activated\n",
    "# If in a system terminal window, you will need to navigate to the folder where the venv is located\n",
    "# eg typically labs-bedrock/agentcore\n",
    "# then run the command below to activate the venv\n",
    "source venv-agentcore/bin/activate"
   ]
  },
  {
   "cell_type": "code",
   "execution_count": null,
   "metadata": {
    "vscode": {
     "languageId": "shellscript"
    }
   },
   "outputs": [],
   "source": [
    "# Then cd to the agents folder\n",
    "cd agents"
   ]
  },
  {
   "cell_type": "markdown",
   "metadata": {},
   "source": [
    "#### Example prompts to use with a single agent\n",
    "- We don't have to use the orchestration agent, we can call each sub agent directly if we wish\n",
    "- Here is an example with the API sub agent, create your own test files to test others"
   ]
  },
  {
   "cell_type": "code",
   "execution_count": null,
   "metadata": {
    "vscode": {
     "languageId": "shellscript"
    }
   },
   "outputs": [],
   "source": [
    "# run this in the agents folder to test the agent API\n",
    "python Test_Agent_API.py\n",
    "\n",
    "# then ask it a question, for example\n",
    "How risky is the SHIBA token on Ethereum chain ID 1 with contract address 0x95aD61b0a150d79219dCF64E1E6Cc01f0B64C4cE?\n",
    "What about the Aster token on BNB Chain chain ID 56 with contract address 0x000ae314e2a2172a039b26378814c252734f556a?\n",
    "quit"
   ]
  },
  {
   "cell_type": "markdown",
   "metadata": {},
   "source": [
    "#### Example prompts to use with the orchestration agent\n",
    "- The orchestration agent will choose the appropriate tooling to response to your promot with approx 95% accuracy"
   ]
  },
  {
   "cell_type": "code",
   "execution_count": null,
   "metadata": {
    "vscode": {
     "languageId": "shellscript"
    }
   },
   "outputs": [],
   "source": [
    "# Run the orchestration agent\n",
    "python Strands_Orchestration_Crypto_Agent.py"
   ]
  },
  {
   "cell_type": "code",
   "execution_count": null,
   "metadata": {
    "vscode": {
     "languageId": "shellscript"
    }
   },
   "outputs": [],
   "source": [
    "# in another terminal window:\n",
    "\n",
    "# this should use the crypto_security_analyzer tool via its http_request strands tool\n",
    "curl -X POST http://localhost:8080/invocations \\\n",
    "  -H \"Content-Type: application/json\" \\\n",
    "  -d '{\"prompt\": \"How risky is the SHIBA token on Ethereum chain ID 1 with contract address 0x95aD61b0a150d79219dCF64E1E6Cc01f0B64C4cE?\"}'\n",
    "\n",
    "# this should use the crypto_educator tool via its retrieve strands tool\n",
    "curl -X POST http://localhost:8080/invocations \\\n",
    "  -H \"Content-Type: application/json\" \\\n",
    "  -d '{\"prompt\": \"What are the risks of investing in cryptocurrency?\"}'\n",
    "\n",
    "# this should use the crypto_market_analyst tool via its mcp client strands tool\n",
    "curl -X POST http://localhost:8080/invocations \\\n",
    "  -H \"Content-Type: application/json\" \\\n",
    "  -d '{\"prompt\": \"Can you tell me the current price of Bitcoin?\"}'\n",
    "\n",
    "# this should use the general_knowledge tool via its default llm\n",
    "curl -X POST http://localhost:8080/invocations \\\n",
    "  -H \"Content-Type: application/json\" \\\n",
    "  -d '{\"prompt\": \"What is the capital of Wales and how many mountains does Wales have?\"}'\n",
    "\n",
    "# the HTTP path /invocations is a convention in the Strands / BedrockAgentCore framework\n",
    "# when app.run() is run via the invocation (see the agent code), the server automatically exposes /invocations as the default endpoint for agent calls\n",
    "# the agent code listens for POST requests at this endpoint and processes the incoming JSON payloads accordingly"
   ]
  },
  {
   "cell_type": "code",
   "execution_count": null,
   "metadata": {
    "vscode": {
     "languageId": "shellscript"
    }
   },
   "outputs": [],
   "source": [
    "# More questions for you to try with the orchestration agent curl command above:\n",
    "\n",
    "## crypto_educator agent examples (Bedrock knowledge base created in lab 1)\n",
    "What are the risks of investing in cryptocurrency?\n",
    "What is the future of cryptocurrency?\n",
    "Can you explain blockchain technology?\n",
    "How does cryptocurrency mining work?\n",
    "What are the benefits of using cryptocurrency?\n",
    "I want to buy some Bitcoin, can you help?\n",
    "I want to sell some Bitcoin, can you help?\n",
    "\n",
    "## crypto_market_analyst agent examples (MCP server)\n",
    "Can you tell me the current price of Bitcoin?\n",
    "Can you tell me the current price of Ethereum?\n",
    "What is the market cap of XVG?\n",
    "What are the top 3 trending coins on CoinGecko right now?\n",
    "Show me the current top 10 cryptocurrencies by market cap. Include their price, 24h change, and total volume. Display this in a table.\n",
    "\n",
    "## crypto_security_analyzer agent examples (API calls)\n",
    "How risky is the SHIBA token on Ethereum chain ID 1 with contract address 0x95aD61b0a150d79219dCF64E1E6Cc01f0B64C4cE?\n",
    "What about the Aster token on BNB Chain chain ID 56 with contract address 0x000ae314e2a2172a039b26378814c252734f556a?\n",
    "\n",
    "## general_knowledge agent examples (default LLM model)\n",
    "How far is the moon from Earth?\n",
    "What is the capital of Wales and how many mountains does Wales have?\n",
    "Who wrote 'The Secret Diary of Adrian Mole Aged 13 and 3/4'?"
   ]
  }
 ],
 "metadata": {
  "kernelspec": {
   "display_name": "venv-agentcore (3.13.7)",
   "language": "python",
   "name": "python3"
  },
  "language_info": {
   "codemirror_mode": {
    "name": "ipython",
    "version": 3
   },
   "file_extension": ".py",
   "mimetype": "text/x-python",
   "name": "python",
   "nbconvert_exporter": "python",
   "pygments_lexer": "ipython3",
   "version": "3.13.7"
  }
 },
 "nbformat": 4,
 "nbformat_minor": 2
}
