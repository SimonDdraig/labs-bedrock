{
 "cells": [
  {
   "cell_type": "markdown",
   "metadata": {},
   "source": [
    "# <span style=\"color:DarkSeaGreen\">Lab 2 - Strands Agents</span>\n",
    "- this notebook creates the following:\n",
    "  - Adds to the venv you created in lab 1 requirements found in requirements_lab2.txt\n",
    "\n",
    "### NOTE\n",
    "- Make sure you edit the config.py file with the ID of the knowledge base you created in lab 1!\n",
    "  - Find this comment in lab 1 to find your KB ID:\n",
    "    - *You will need this KB ID in the next lab, make a note of it*"
   ]
  },
  {
   "cell_type": "code",
   "execution_count": null,
   "metadata": {
    "vscode": {
     "languageId": "shellscript"
    }
   },
   "outputs": [],
   "source": [
    "### START ###\n",
    "### MAKE SURE YOU ARE IN THE RIGHT FOLDER WHERE THE REQUIREMENTS FILE IS LOCATED ###\n",
    "### COPY FROM HERE ONLY IF RUNNING AS ONE COPY AND PASTE ###\n",
    "# activate the virtual environment\n",
    "source venv-agentcore/bin/activate\n",
    "### COPY TO HERE ONLY IF RUNNING AS ONE COPY AND PASTE ###\n",
    "\n",
    "### STOP ###\n",
    "### MAKE SURE ABOVE VENV GETS ACTIVATED BEFORE RUNNING THE REST ###\n",
    "# install the required packages - may need to specify the path here if not in the correct folder in terminal window\n",
    "pip install -r requirements_lab2.txt\n",
    "# pip install -r Documents/github/labs-sagemaker/jumpstart/requirements_lab2.txt\n",
    "# verify the installation\n",
    "pip list\n",
    "\n",
    "### RESTART VSCODE TO PICKUP THE NEW VENV ###"
   ]
  },
  {
   "cell_type": "code",
   "execution_count": null,
   "metadata": {
    "vscode": {
     "languageId": "shellscript"
    }
   },
   "outputs": [],
   "source": [
    "### STOP ###\n",
    "### This command is for activating an environment that already exists, its for use in a terminal window if you need it ###\n",
    "source venv-agentcore/bin/activate\n",
    "pip list\n",
    "\n",
    "# use pip freeze if you prefer for friendly format"
   ]
  },
  {
   "cell_type": "markdown",
   "metadata": {},
   "source": [
    "# Lab 2 Starts Here!"
   ]
  },
  {
   "cell_type": "markdown",
   "metadata": {},
   "source": [
    "- Demonstrate use of Strands agents\n",
    "  - Agent which uses the Bedrock knowledge base created in lab 1 (Strands_Agent_KB_Bedrock.py)\n",
    "  - Agent which calls an API (Strands_Agent_API.py)\n",
    "  - Agent which calls an MCP (Strands_Agent_MCP_CoinGecko.py)\n",
    "  - Agent which calls Bedrock ffm (Strands_Agent_General.py)"
   ]
  },
  {
   "cell_type": "markdown",
   "metadata": {},
   "source": [
    "# <span style=\"color:DarkSeaGreen\">Test the Strands Multi Agent</span>"
   ]
  },
  {
   "cell_type": "code",
   "execution_count": null,
   "metadata": {
    "vscode": {
     "languageId": "shellscript"
    }
   },
   "outputs": [],
   "source": [
    "# Either in a IDE terminal window, or your system terminal window, make sure the venv is activated\n",
    "# If in a system terminal window, you will need to navigate to the folder where the venv is located\n",
    "# eg typically labs-bedrock/agentcore\n",
    "# then run the command below to activate the venv\n",
    "source venv-agentcore/bin/activate"
   ]
  },
  {
   "cell_type": "code",
   "execution_count": null,
   "metadata": {
    "vscode": {
     "languageId": "shellscript"
    }
   },
   "outputs": [],
   "source": [
    "# Then cd to the agents folder\n",
    "cd agents"
   ]
  },
  {
   "cell_type": "code",
   "execution_count": null,
   "metadata": {
    "vscode": {
     "languageId": "shellscript"
    }
   },
   "outputs": [],
   "source": [
    "# Run the orchestration agent\n",
    "python Strands_Orchestration_Crypto_Agent.py"
   ]
  }
 ],
 "metadata": {
  "kernelspec": {
   "display_name": "venv-agentcore (3.13.7)",
   "language": "python",
   "name": "python3"
  },
  "language_info": {
   "codemirror_mode": {
    "name": "ipython",
    "version": 3
   },
   "file_extension": ".py",
   "mimetype": "text/x-python",
   "name": "python",
   "nbconvert_exporter": "python",
   "pygments_lexer": "ipython3",
   "version": "3.13.7"
  }
 },
 "nbformat": 4,
 "nbformat_minor": 2
}
