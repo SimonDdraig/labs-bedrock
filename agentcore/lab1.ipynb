{
 "cells": [
  {
   "cell_type": "markdown",
   "metadata": {},
   "source": [
    "# <span style=\"color:DarkSeaGreen\">Lab 1 - Knowledge Base</span>\n",
    "*With Knowledge Bases for Amazon Bedrock, you can give FMs and agents contextual information from your company’s private data sources for Retrieval Augmented Generation (RAG) to deliver more relevant, accurate, and customized responses*  \n",
    "\n",
    "- this notebook creates the following:\n",
    "  - s3 bucket to:\n",
    "    - drop pdf files into \n",
    "    - used as resources for knowledge base\n",
    "  - iam\n",
    "    - roles\n",
    "    - policies\n",
    "  - aurora vector database\n",
    "    - provisioned postgres cluster\n",
    "    - table with required columns to store vector data\n",
    "  - secrets manager\n",
    "    - cluster and database secret credentials\n",
    "  - knowledge base\n",
    "    - process pdf files\n",
    "      - supported data formats include .pdf, .txt, .md, .html, .doc and .docx, .csv, .xls, and .xlsx files\n",
    "    - process supporting meta json files\n",
    "    - train the model\n",
    "- includes clean up cells to delete all above  "
   ]
  },
  {
   "cell_type": "markdown",
   "metadata": {},
   "source": [
    "# <span style=\"color:DarkSeaGreen\">Prepare Your Environment</span>\n",
    "### Requirements for this Jupyter Notebook Lab if running in VSCode or equivalent local IDE\n",
    "##### Note these are macOS specific\n",
    "- Credentials\n",
    "  - You need credentials to your AWS account to execute this Jupyter Lab if running locally from your laptop\n",
    "    - Locally: Credentials and therefore permissions asscociated with the IAM user (with CLI access enabled) are provided by AWS configure connection to your AWS account\n",
    "    - Cloud: Permissions provided via logged in user\n",
    "- Installers:\n",
    "  - Pip\n",
    "    - Python libraries\n",
    "    - Works inside Python envs\n",
    "  - homebrew (brew) (mac)\n",
    "    - System software, tools, and dependencies\n",
    "    - Works at OS level\n",
    "\n",
    "- Run the commands of the cell below in a terminal window to create a virtual environment if you need one\n",
    "  - Note check your Python version first, then if ok, copy the rest and run in terminal window\n",
    "  - Note if you copy and paste the multiple lines and run as one you will get zsh: command not found: # errors because of the comments, but you can ignore\n",
    "  - Remember to restart the kernel to pick up the new venv\n",
    "  - The venv can be deleted via the last cell in this notebook iof no longer needed\n",
    "- If you already have a virtual environment, then just activate it as shown in the second cell below\n",
    "  - Venv (can be created below) used by this notebook is *venv-agentcore*"
   ]
  },
  {
   "cell_type": "code",
   "execution_count": null,
   "metadata": {
    "vscode": {
     "languageId": "shellscript"
    }
   },
   "outputs": [],
   "source": [
    "# Check your credentials (AWS identity) to confirm you are using the right credentials, can also run in a terminal window (remove the !)\n",
    "!aws sts get-caller-identity"
   ]
  },
  {
   "cell_type": "code",
   "execution_count": null,
   "metadata": {
    "vscode": {
     "languageId": "shellscript"
    }
   },
   "outputs": [],
   "source": [
    "### STOP ###\n",
    "### IF USING THIS NOTEBOOK IN AN AWS (eg SAGEMAKER) JUPYTER NOTEBOOK INSTANCE, THEN SKIP TO THE NEXT CELL ###\n",
    "### OTHERWISE, IF USING VSCODE OR EQUIVALENT LOCAL IDE, THEN CONTINUE BELOW ###\n",
    "### This script is for setting up your environment for the JumpStart Lab 1 ###\n",
    "# do you need to upgrade python first? Your available version of Python is used to create the virtual environment\n",
    "python3 --version\n",
    "\n",
    "### STOP ###\n",
    "### DO YOU NEED TO UPGRADE PYTHON ###\n",
    "# upgrade to the latest version of python if required\n",
    "brew install python\n",
    "# restart vscode to pickup new version of python\n",
    "python3 --version\n",
    "\n",
    "### STOP ###\n",
    "### OK IF YOU HAVE THE CORRECT VERSION OF PYTHON, CONTINUE ###\n",
    "# create a virtual environment\n",
    "python3 -m venv venv-agentcore\n",
    "# activate the virtual environment\n",
    "source venv-agentcore/bin/activate\n",
    "### COPY TO HERE ONLY IF RUNNING AS ONE COPY AND PASTE ###\n",
    "\n",
    "### STOP ###\n",
    "### MAKE SURE ABOVE VENV GETS ACTIVATED BEFORE RUNNING THE REST ###\n",
    "# upgrade pip\n",
    "pip install --upgrade pip\n",
    "# jupyter kernel support\n",
    "pip install ipykernel\n",
    "# add the virtual environment to jupyter\n",
    "python  -m ipykernel install --user --name=venv-agentcore --display-name \"Python (venv-agentcore)\"\n",
    "# install the required packages - may need to specify the path here if not in the correct folder in terminal window\n",
    "pip install -r requirements_lab1.txt\n",
    "# pip install -r Documents/github/labs-sagemaker/jumpstart/requirements_lab1.txt\n",
    "# verify the installation\n",
    "pip list\n",
    "\n",
    "### RESTART VSCODE TO PICKUP THE NEW VENV ###"
   ]
  },
  {
   "cell_type": "code",
   "execution_count": null,
   "metadata": {
    "vscode": {
     "languageId": "shellscript"
    }
   },
   "outputs": [],
   "source": [
    "### STOP ###\n",
    "### This command is for activating an environment that already exists, its for use in a terminal window if you need it ###\n",
    "source venv-agentcore/bin/activate\n",
    "pip list\n",
    "\n",
    "# use pip freeze if you prefer for friendly format\n",
    "### ALSO MAKE SURE YOU SELECT IT AS YOUR KERNEL FOR THIS JUPYTER NOTEBOOK ###"
   ]
  },
  {
   "cell_type": "code",
   "execution_count": null,
   "metadata": {
    "vscode": {
     "languageId": "shellscript"
    }
   },
   "outputs": [],
   "source": [
    "### STOP ###\n",
    "### IF USING THIS NOTEBOOK IN AN AWS (eg SAGEMAKER) JUPYTER NOTEBOOK INSTANCE, THEN EXECUTE THIS CELL ###\n",
    "!pip install --upgrade pip"
   ]
  },
  {
   "cell_type": "markdown",
   "metadata": {},
   "source": [
    "# Lab 1 Starts Here!"
   ]
  },
  {
   "cell_type": "markdown",
   "metadata": {},
   "source": [
    "# <span style=\"color:DarkSeaGreen\">Setup</span>"
   ]
  },
  {
   "cell_type": "code",
   "execution_count": null,
   "metadata": {},
   "outputs": [],
   "source": [
    "import random\n",
    "\n",
    "# region - we use us-east-1 as Bedrock is limited in other reasons\n",
    "myRegion='us-east-1'\n",
    "\n",
    "# bucket - MUST BE A UNIQUE NAME\n",
    "myBucket='doit-agentcore-bucket-' + str(random.randint(0, 1000)) + '-' + str(random.randint(0, 1000))\n",
    "# iam\n",
    "myRoleKB=\"doit-agentcore-kb-execution-role\"\n",
    "myPolicyKB1=\"doit-agentcore-kb-fm-model-policy\"\n",
    "myPolicyKB3=\"doit-agentcore-kb-s3vector-policy\"\n",
    "myRoleKBARN='RETRIEVED FROM ROLE BELOW ONCE CREATED'\n",
    "\n",
    "# knowledge base\n",
    "myVectorIndex='doit-agentcore-kb-embeddings-index'\n",
    "myVectorIndexARN='RETRIEVED BELOW ONCE QUERIED'\n",
    "myVectorBucket='doit-agentcore-kb-embeddings-' + str(random.randint(0, 1000)) + '-' + str(random.randint(0, 1000))\n",
    "myVectorBucketARN='RETRIEVED BELOW ONCE QUERIED'\n",
    "myKB='doit-agentcore-kb'\n",
    "myKBdatasource='doit-agentcore-kb-crypto'\n",
    "\n",
    "# knowledge base models we will use\n",
    "myEmbeddingModel='amazon.titan-embed-text-v2:0'\n",
    "myQueryingModel='amazon.nova-pro-v1:0'\n",
    "myEmbeddingModelARN='RETRIEVED BELOW ONCE QUERIED'\n",
    "myQueryingModelARN='RETRIEVED BELOW ONCE QUERIED'\n",
    "\n",
    "print (f'Make sure you have requested model access via the AWS console to your selected models:\\n {myEmbeddingModel} and {myQueryingModel}')\n",
    "print ('✅ Done! Move to the next cell ->')"
   ]
  },
  {
   "cell_type": "code",
   "execution_count": null,
   "metadata": {},
   "outputs": [],
   "source": [
    "import boto3\n",
    "from certifi import where\n",
    "import json\n",
    "\n",
    "# Configure boto3 to use certifi's certificates\n",
    "sts_client = boto3.client('sts', verify=where())\n",
    "myAccountNumber = sts_client.get_caller_identity()[\"Account\"]\n",
    "print(myAccountNumber)\n",
    "print(sts_client.get_caller_identity()[\"Arn\"])\n",
    "\n",
    "print ('✅ Done! Move to the next cell ->')"
   ]
  },
  {
   "cell_type": "code",
   "execution_count": null,
   "metadata": {},
   "outputs": [],
   "source": [
    "# s3\n",
    "s3 = boto3.client('s3', region_name=myRegion, verify=where())\n",
    "s3vectors = boto3.client('s3vectors', region_name=myRegion, verify=where())\n",
    "\n",
    "# rds\n",
    "rds = boto3.client('rds', region_name=myRegion, verify=where())\n",
    "rdsData = boto3.client('rds-data', region_name=myRegion, verify=where())\n",
    "# iam\n",
    "iam = boto3.client('iam', region_name=myRegion, verify=where())\n",
    "# secrets manager\n",
    "secrets = boto3.client('secretsmanager', region_name=myRegion, verify=where())\n",
    "# logs (cloudwatch)\n",
    "logs = boto3.client('logs', region_name=myRegion, verify=where())\n",
    "# bedrock\n",
    "bedrockChk = boto3.client(service_name='bedrock', region_name=myRegion, verify=where())\n",
    "bedrockKB = boto3.client(service_name='bedrock-agent', region_name=myRegion, verify=where())\n",
    "bedrockKBRun = boto3.client(service_name='bedrock-agent-runtime', region_name=myRegion, verify=where())\n",
    "bedrockRun = boto3.client(service_name='bedrock-runtime', region_name=myRegion, verify=where())\n",
    "\n",
    "print ('✅ Done! Move to the next cell ->')"
   ]
  },
  {
   "cell_type": "markdown",
   "metadata": {},
   "source": [
    "-  <span style=\"color:greenyellow\">REMEMBER TO CHECK THIS PATH TO THE RESOURCES!<span>\n",
    "-  <span style=\"color:greenyellow\">IF IN AWS JUPYTER MAKE SURE THE 2ND IS UNCOMMENTED<span>"
   ]
  },
  {
   "cell_type": "code",
   "execution_count": null,
   "metadata": {},
   "outputs": [],
   "source": [
    "# local client path for resources\n",
    "myLocalPathForDataSources='/Users/simondavies/Documents/GitHub/labs-bedrock/agentcore/resources/kb-datasource/'\n",
    "# jupyter notebook path if notebook is used in AWS for example\n",
    "#myLocalPathForDataSources='/home/ec2-user/SageMaker/labs-bedrock/agentcore/resources/kb-datasource/'\n",
    "\n",
    "print ('✅ Done! Move to the next cell ->')"
   ]
  },
  {
   "cell_type": "code",
   "execution_count": null,
   "metadata": {},
   "outputs": [],
   "source": [
    "# define tags added to all services we create\n",
    "myTags = [\n",
    "    {\"Key\": \"env\", \"Value\": \"non_prod\"},\n",
    "    {\"Key\": \"owner\", \"Value\": \"doit_agentcore_lab\"},\n",
    "    {\"Key\": \"project\", \"Value\": \"doit_agentcore_crypto\"},\n",
    "    {\"Key\": \"author\", \"Value\": \"simon\"},\n",
    "]\n",
    "myTagsDct = {\n",
    "    \"env\": \"non_prod\",\n",
    "    \"owner\": \"doit_agentcore_lab\",\n",
    "    \"project\": \"doit_agentcore_crypto\",\n",
    "    \"author\": \"simon\",\n",
    "}\n",
    "\n",
    "print ('✅ Done! Move to the next cell ->')"
   ]
  },
  {
   "cell_type": "markdown",
   "metadata": {},
   "source": [
    "# <span style=\"color:DarkSeaGreen\">S3</span>\n",
    "- defaults used, will use sse-s3 encryption and block public access"
   ]
  },
  {
   "cell_type": "code",
   "execution_count": null,
   "metadata": {},
   "outputs": [],
   "source": [
    "# create bucket\n",
    "if myRegion=='us-east-1':\n",
    "    s3.create_bucket(\n",
    "        Bucket=myBucket\n",
    "    )\n",
    "else:\n",
    "    s3.create_bucket(\n",
    "        Bucket=myBucket, CreateBucketConfiguration={\"LocationConstraint\": myRegion}\n",
    "    )\n",
    "\n",
    "s3.put_bucket_tagging(Bucket=myBucket, Tagging={\"TagSet\": myTags})\n",
    "\n",
    "# create a \"folder\" - really keys as S3 is flat\n",
    "s3.put_object(Bucket=myBucket, Key=\"crypto/\")\n",
    "\n",
    "print ('✅ Done! Move to the next cell ->')"
   ]
  },
  {
   "cell_type": "markdown",
   "metadata": {},
   "source": [
    "- upload resource files to s3 that will be used to create the knowledge base with\n",
    "  - includes metadata file\n",
    "  - https://docs.aws.amazon.com/bedrock/latest/userguide/knowledge-base-ds.html#kb-ds-metadata\n",
    "  - If you're adding metadata to a vector index in an Amazon Aurora database cluster, you must add a column to the table for each metadata attribute in your metadata files before starting ingestion. The metadata attribute values will be written to these columns."
   ]
  },
  {
   "cell_type": "code",
   "execution_count": null,
   "metadata": {},
   "outputs": [],
   "source": [
    "# Upload each file to the S3 bucket\n",
    "files = [\n",
    "    {\n",
    "        's3key': 'crypto/Crypto Bubble.md',\n",
    "        'localpath': '{}Crypto Bubble.md'.format(myLocalPathForDataSources)\n",
    "    },\n",
    "    {\n",
    "        's3key': 'crypto/Crypto Bubble.md.metadata.json',\n",
    "        'localpath': '{}Crypto Bubble.md.metadata.json'.format(myLocalPathForDataSources)\n",
    "    },\n",
    "    {\n",
    "        's3key': 'crypto/Crypto Scams.md',\n",
    "        'localpath': '{}Crypto Scams.md'.format(myLocalPathForDataSources)\n",
    "    },\n",
    "    {\n",
    "        's3key': 'crypto/Crypto Scams.md.metadata.json',\n",
    "        'localpath': '{}Crypto Scams.md.metadata.json'.format(myLocalPathForDataSources)\n",
    "    },\n",
    "    {\n",
    "        's3key': 'crypto/Finding Crypto To Invest In.md',\n",
    "        'localpath': '{}Finding Crypto To Invest In.md'.format(myLocalPathForDataSources)\n",
    "    },\n",
    "    {\n",
    "        's3key': 'crypto/Finding Crypto To Invest In.md.metadata.json',\n",
    "        'localpath': '{}Finding Crypto To Invest In.md.metadata.json'.format(myLocalPathForDataSources)\n",
    "    },\n",
    "    {\n",
    "        's3key': 'crypto/Mechanics of Cryptocurrency.md',\n",
    "        'localpath': '{}Mechanics of Cryptocurrency.md'.format(myLocalPathForDataSources)\n",
    "    },\n",
    "    {\n",
    "        's3key': 'crypto/Mechanics of Cryptocurrency.md.metadata.json',\n",
    "        'localpath': '{}Mechanics of Cryptocurrency.md.metadata.json'.format(myLocalPathForDataSources)\n",
    "    },\n",
    "    {\n",
    "        's3key': 'crypto/Token Supply.md',\n",
    "        'localpath': '{}Token Supply.md'.format(myLocalPathForDataSources)\n",
    "    },\n",
    "    {\n",
    "        's3key': 'crypto/Token Supply.md.metadata.json',\n",
    "        'localpath': '{}Token Supply.md.metadata.json'.format(myLocalPathForDataSources)\n",
    "    },\n",
    "    {\n",
    "        's3key': 'crypto/Verifying Token Legitimacy.md',\n",
    "        'localpath': '{}Verifying Token Legitimacy.md'.format(myLocalPathForDataSources)\n",
    "    },\n",
    "    {\n",
    "        's3key': 'crypto/Verifying Token Legitimacy.md.metadata.json',\n",
    "        'localpath': '{}Verifying Token Legitimacy.md.metadata.json'.format(myLocalPathForDataSources)\n",
    "    }\n",
    "]\n",
    "\n",
    "for file in files:\n",
    "    print ('uploading: {}'.format(file['s3key']))\n",
    "    s3.upload_file(file['localpath'], myBucket, file['s3key'], ExtraArgs={'StorageClass': 'STANDARD'})\n",
    "    print ('uploaded: {}'.format(file['s3key']))\n",
    "\n",
    "print ('✅ Done! Move to the next cell ->')"
   ]
  },
  {
   "cell_type": "markdown",
   "metadata": {},
   "source": [
    "# <span style=\"color:DarkSeaGreen\">S3 Vector Store</span>\n",
    "- S3 vector store for kb"
   ]
  },
  {
   "cell_type": "code",
   "execution_count": null,
   "metadata": {},
   "outputs": [],
   "source": [
    "# Create vector bucket\n",
    "response = s3vectors.create_vector_bucket(\n",
    "    vectorBucketName=myVectorBucket,\n",
    "    encryptionConfiguration={\n",
    "        'sseType': 'AES256' \n",
    "    }\n",
    ")\n",
    "response = s3vectors.get_vector_bucket(\n",
    "    vectorBucketName=myVectorBucket\n",
    ")\n",
    "myVectorBucketARN = response['vectorBucket']['vectorBucketArn']\n",
    "\n",
    "print ('✅ Done! Move to the next cell ->')"
   ]
  },
  {
   "cell_type": "markdown",
   "metadata": {},
   "source": [
    "- In the create index below, ensure you include any keys you have created in your metadata descriptions of your knowledge base datasources\n",
    "- embedding dimension (typically 1024) may need to change according to the embedding model used \n",
    "  - https://docs.aws.amazon.com/bedrock/latest/userguide/knowledge-base-setup.html\n",
    "\n",
    "| Model                      | Dimensions              |\n",
    "|---------------------------|-------------------------|\n",
    "| Titan G1 Embeddings - Text | 1,536                   |\n",
    "| Titan V2 Embeddings - Text | 1,024, 512, and 256     |\n",
    "| Cohere Embed English       | 1,024                   |\n",
    "| Cohere Embed Multilingual  | 1,024                   |"
   ]
  },
  {
   "cell_type": "code",
   "execution_count": null,
   "metadata": {},
   "outputs": [],
   "source": [
    "# Create vector index in the bucket\n",
    "response = s3vectors.create_index(\n",
    "    vectorBucketArn=myVectorBucketARN,\n",
    "    indexName=myVectorIndex,\n",
    "    dataType='float32',\n",
    "    dimension=1024,  # Match your embedding model\n",
    "    distanceMetric='cosine',  # or 'euclidean'\n",
    "    metadataConfiguration={\n",
    "        'nonFilterableMetadataKeys': ['source_text']  # Optional\n",
    "    }\n",
    ")\n",
    "\n",
    "response = s3vectors.get_index(\n",
    "    vectorBucketName=myVectorBucket,\n",
    "    indexName=myVectorIndex\n",
    ")\n",
    "myVectorIndexARN = response['index']['indexArn']\n",
    "\n",
    "print(\"✅ Done! Move to the next cell ->\")\n"
   ]
  },
  {
   "cell_type": "code",
   "execution_count": null,
   "metadata": {},
   "outputs": [],
   "source": [
    "# Read markdown files from S3 bucket and embed into S3 Vectors\n",
    "# List all markdown files from S3 bucket where we uploaded them\n",
    "response = s3.list_objects_v2(Bucket=myBucket, Prefix=\"crypto\")\n",
    "md_files = [\n",
    "    obj[\"Key\"] for obj in response.get(\"Contents\", []) if obj[\"Key\"].endswith(\".md\")\n",
    "]\n",
    "\n",
    "vectors_to_insert = []\n",
    "\n",
    "# Process each file\n",
    "for md_file in md_files:\n",
    "    print(f\"Processing: {md_file}\")\n",
    "\n",
    "    # Read markdown content\n",
    "    md_obj = s3.get_object(Bucket=myBucket, Key=md_file)\n",
    "    text_content = md_obj[\"Body\"].read().decode(\"utf-8\")\n",
    "\n",
    "    # Read metadata if exists\n",
    "    metadata_file = f\"{md_file}.metadata.json\"\n",
    "    metadata = {}\n",
    "    try:\n",
    "        meta_obj = s3.get_object(Bucket=myBucket, Key=metadata_file)\n",
    "        metadata = json.loads(meta_obj[\"Body\"].read().decode(\"utf-8\"))\n",
    "        print(f\"  Found metadata: {metadata_file}\")\n",
    "    except:\n",
    "        print(f\"  No metadata found\")\n",
    "\n",
    "    # Generate embedding\n",
    "    response = bedrockRun.invoke_model(\n",
    "        modelId=myEmbeddingModel, body=json.dumps({\"inputText\": text_content})\n",
    "    )\n",
    "    embedding = json.loads(response[\"body\"].read())[\"embedding\"]\n",
    "\n",
    "    # Prepare vector with metadata\n",
    "    vector_data = {\n",
    "        \"key\": md_file,\n",
    "        \"data\": {\"float32\": embedding},\n",
    "        \"metadata\": {\n",
    "            \"source_text\": text_content,\n",
    "            **metadata.get(\"metadataAttributes\", {}),\n",
    "        },\n",
    "    }\n",
    "    vectors_to_insert.append(vector_data)\n",
    "\n",
    "# Insert all vectors\n",
    "s3vectors.put_vectors(\n",
    "    indexArn=myVectorIndexARN, vectors=vectors_to_insert\n",
    ")\n",
    "\n",
    "print(f\"✅ Embedded {len(vectors_to_insert)} documents into S3 Vectors\")\n",
    "print(\"✅ Done! Move to the next cell ->\")"
   ]
  },
  {
   "cell_type": "code",
   "execution_count": null,
   "metadata": {},
   "outputs": [],
   "source": [
    "# test you can query the vectors\n",
    "query_text = \"What are the risks of investing in cryptocurrency?\"\n",
    "\n",
    "# Generate query embedding\n",
    "response = bedrockRun.invoke_model(\n",
    "    modelId=myEmbeddingModel,\n",
    "    body=json.dumps({'inputText': query_text})\n",
    ")\n",
    "\n",
    "# Extract embedding from response\n",
    "query_embedding = json.loads(response['body'].read())['embedding']\n",
    "\n",
    "# Query vectors\n",
    "response = s3vectors.query_vectors(\n",
    "    vectorBucketName=myVectorBucket,\n",
    "    indexName=myVectorIndex,\n",
    "    queryVector={'float32': query_embedding},\n",
    "    topK=3,\n",
    "    returnDistance=True,\n",
    "    returnMetadata=True\n",
    ")\n",
    "\n",
    "print(json.dumps(response[\"vectors\"], indent=2))\n",
    "print(\"✅ Done! Move to the next cell ->\")"
   ]
  },
  {
   "cell_type": "markdown",
   "metadata": {},
   "source": [
    "# <span style=\"color:DarkSeaGreen\">IAM</span>"
   ]
  },
  {
   "cell_type": "markdown",
   "metadata": {},
   "source": [
    "- bedrock iam\n",
    "  - https://docs.aws.amazon.com/bedrock/latest/userguide/kb-permissions.html#kb-permissions-rds"
   ]
  },
  {
   "cell_type": "code",
   "execution_count": null,
   "metadata": {},
   "outputs": [],
   "source": [
    "# define kb-fm-model-policy json\n",
    "policyJson = {\n",
    "    \"Version\": \"2012-10-17\",\n",
    "    \"Statement\": [\n",
    "        {\n",
    "            \"Effect\": \"Allow\",\n",
    "            \"Action\": [\n",
    "                \"bedrock:ListFoundationModels\",\n",
    "                \"bedrock:ListCustomModels\"\n",
    "            ],\n",
    "            \"Resource\": \"*\"\n",
    "        },\n",
    "        {\n",
    "            \"Effect\": \"Allow\",\n",
    "            \"Action\": [\n",
    "                \"bedrock:InvokeModel\"\n",
    "            ],\n",
    "            \"Resource\": [\n",
    "                \"arn:aws:bedrock:{}::foundation-model/{}\".format(myRegion, myEmbeddingModel)\n",
    "            ]\n",
    "        }\n",
    "    ]\n",
    "}\n",
    "\n",
    "# create kb-fm-model-policy policy\n",
    "policy1 = iam.create_policy(\n",
    "    PolicyName=myPolicyKB1,\n",
    "    PolicyDocument=json.dumps(policyJson),\n",
    "    Description=\"Policy allowing Bedrock KB to use the specified foundation model\",\n",
    "    Tags=[\n",
    "        *myTags,\n",
    "    ],\n",
    ")\n",
    "\n",
    "# define kb-s3-vector-policy json - a different vector store will need a different policy\n",
    "policyJson = {\n",
    "    \"Version\": \"2012-10-17\",\n",
    "    \"Statement\": [\n",
    "        {\n",
    "            \"Effect\": \"Allow\",\n",
    "            \"Action\": [\n",
    "                \"s3vectors:*\"\n",
    "            ],\n",
    "            \"Resource\": [\n",
    "                myVectorBucketARN, \n",
    "                myVectorIndexARN\n",
    "            ]\n",
    "        }\n",
    "    ]\n",
    "}\n",
    "\n",
    "# create kb-aurora-policy policy\n",
    "policy3 = iam.create_policy(\n",
    "    PolicyName=myPolicyKB3,\n",
    "    PolicyDocument=json.dumps(policyJson),\n",
    "    Description=\"Policy allowing Bedrock KB to use s3 vector store as its vector database\",\n",
    "    Tags=[\n",
    "        *myTags,\n",
    "    ],\n",
    ")\n",
    "\n",
    "# trust policy for the role\n",
    "roleTrust = {\n",
    "    \"Version\": \"2012-10-17\",\n",
    "    \"Statement\": [\n",
    "        {\n",
    "            \"Effect\": \"Allow\",\n",
    "            \"Principal\": {\"Service\": \"bedrock.amazonaws.com\"},\n",
    "            \"Action\": \"sts:AssumeRole\",\n",
    "            \"Condition\": {\n",
    "                \"StringEquals\": {\n",
    "                    \"aws:SourceAccount\": \"{}\".format(myAccountNumber)\n",
    "                },\n",
    "                \"ArnLike\": {\n",
    "                    \"aws:SourceArn\": \"arn:aws:bedrock:{}:{}:knowledge-base/*\".format(myRegion, myAccountNumber)\n",
    "                }\n",
    "            }\n",
    "        }\n",
    "    ],\n",
    "}\n",
    "\n",
    "# create role\n",
    "role = iam.create_role(\n",
    "    RoleName=myRoleKB,\n",
    "    AssumeRolePolicyDocument=json.dumps(roleTrust),\n",
    "    Description=\"Service role for Bedrock Knowledge Base use\",\n",
    "    Tags=[\n",
    "        *myTags,\n",
    "    ],\n",
    ")\n",
    "\n",
    "# attach policies to role\n",
    "iam.attach_role_policy(\n",
    "    RoleName=role[\"Role\"][\"RoleName\"], PolicyArn=policy1[\"Policy\"][\"Arn\"]\n",
    ")\n",
    "iam.attach_role_policy(\n",
    "    RoleName=role[\"Role\"][\"RoleName\"], PolicyArn=policy3[\"Policy\"][\"Arn\"]\n",
    ")\n",
    "myRoleKBARN = role['Role']['Arn']\n",
    "\n",
    "print ('✅ Done! Move to the next cell ->')"
   ]
  },
  {
   "cell_type": "markdown",
   "metadata": {},
   "source": [
    "# <span style=\"color:DarkSeaGreen\">Knowledge Base</span>\n",
    "Create the knowledge base\n",
    "* find embedding model arn\n",
    "* find model to use for kb generated responses\n",
    "* create iam role\n",
    "* create opensearch serverless cluster\n",
    "* create knowledge base\n",
    "* sync"
   ]
  },
  {
   "cell_type": "markdown",
   "metadata": {},
   "source": [
    "- find an embedding model to use - this will be used to create the kb"
   ]
  },
  {
   "cell_type": "code",
   "execution_count": null,
   "metadata": {},
   "outputs": [],
   "source": [
    "# find the arn of the embedding model we need (this model converts your data into vectors)\n",
    "# We will be using Titan Embeddings G1 - Text v1.2 (Command Cohere is also available as an embedding model for KBs)\n",
    "# look in the list to get the ARN of the model we want to use\n",
    "# use in the bedrockKB.create_knowledge_base if we create the kb via code\n",
    "\n",
    "# this lists all models based on the filter\n",
    "response = bedrockChk.list_foundation_models(\n",
    "    byProvider='Amazon',\n",
    "    byOutputModality='EMBEDDING',\n",
    "    byInferenceType='PROVISIONED'\n",
    ")\n",
    "\n",
    "# but we know what we want so lets just find it so we can get the arn\n",
    "response = bedrockChk.get_foundation_model(modelIdentifier=myEmbeddingModel)\n",
    "myEmbeddingModelARN=response['modelDetails']['modelArn']\n",
    "\n",
    "print('Embedding model ARN: {}'.format(myEmbeddingModelARN))\n",
    "print ('✅ Done! Move to the next cell ->')"
   ]
  },
  {
   "cell_type": "markdown",
   "metadata": {},
   "source": [
    "- find a foundation model to use - this will be used when we want to query the kb"
   ]
  },
  {
   "cell_type": "code",
   "execution_count": null,
   "metadata": {},
   "outputs": [],
   "source": [
    "# find the arn of the model to use for kb generated responses (parses the data retrieved fropm the knowledge base)\n",
    "# look in the list to get the ARN of the model we want to use\n",
    "# use in the bedrockKBRun.retrieve_and_generate when you query the kb\n",
    "\n",
    "# this lists all models based on the filter\n",
    "response = bedrockChk.list_foundation_models(\n",
    "    byProvider='Anthropic',\n",
    "    byOutputModality='TEXT',\n",
    "    byInferenceType='ON_DEMAND'\n",
    ")\n",
    "\n",
    "# but we know what we want so lets just find it so we can get the arn\n",
    "response = bedrockChk.get_foundation_model(modelIdentifier=myQueryingModel)\n",
    "myQueryingModelARN=response['modelDetails']['modelArn']\n",
    "\n",
    "print('Querying model ARN: {}'.format(myQueryingModelARN))\n",
    "print ('✅ Done! Move to the next cell ->')"
   ]
  },
  {
   "cell_type": "markdown",
   "metadata": {},
   "source": [
    "- create the knowledge base"
   ]
  },
  {
   "cell_type": "code",
   "execution_count": null,
   "metadata": {},
   "outputs": [],
   "source": [
    "# Create Knowledge Base with S3 Vectors\n",
    "response = bedrockKB.create_knowledge_base(\n",
    "    name=myKB,\n",
    "    description='Crypto knowledge base using S3 Vectors',\n",
    "    roleArn=myRoleKBARN,\n",
    "    knowledgeBaseConfiguration={\n",
    "        'type': 'VECTOR',\n",
    "        'vectorKnowledgeBaseConfiguration': {\n",
    "            'embeddingModelArn': myEmbeddingModelARN\n",
    "        }\n",
    "    },\n",
    "    storageConfiguration={\n",
    "        'type': 'S3_VECTORS',\n",
    "        's3VectorsConfiguration': {\n",
    "            'vectorBucketArn': myVectorBucketARN,\n",
    "            'indexArn': myVectorIndexARN\n",
    "        }\n",
    "    }\n",
    ")\n",
    "myKBid=response['knowledgeBase']['knowledgeBaseId']\n",
    "\n",
    "print (f'Knowledge Base ID: {myKBid}')\n",
    "print ('✅ Done! Move to the next cell ->')"
   ]
  },
  {
   "cell_type": "code",
   "execution_count": null,
   "metadata": {},
   "outputs": [],
   "source": [
    "import time\n",
    "\n",
    "timeout = 300  # total seconds to wait\n",
    "interval = 10  # seconds between checks\n",
    "start_time = time.time()\n",
    "\n",
    "while True:\n",
    "    kb = bedrockKB.get_knowledge_base(knowledgeBaseId=myKBid)['knowledgeBase']\n",
    "    status = kb['status']\n",
    "    print(f\"Current KB status: {status}\")\n",
    "    \n",
    "    if status == 'ACTIVE':\n",
    "        print('✅ Done! Move to the next cell ->')\n",
    "        break\n",
    "    \n",
    "    if time.time() - start_time > timeout:\n",
    "        print(\"⏰ Timeout reached. KB is still not ACTIVE.\")\n",
    "        break\n",
    "    \n",
    "    time.sleep(interval)\n"
   ]
  },
  {
   "cell_type": "code",
   "execution_count": null,
   "metadata": {},
   "outputs": [],
   "source": [
    "print(f\"You will need this KB ID in the next lab, make a note of it: {myKBid}\")"
   ]
  },
  {
   "cell_type": "markdown",
   "metadata": {},
   "source": [
    "# <span style=\"color:DarkSeaGreen\">Example Use of Knowledge Base</span>\n",
    "- the following code can be used in your projects to invoke the knowledge base we just created  \n",
    "  - this is just using the bedrock knowledge base run api\n",
    "  - there is NO strands SDK in use\n",
    "  - there is NO agent being used\n",
    "  \n",
    "<br>\n",
    "\n",
    "*You are able to query the knowledge base in the following ways*  \n",
    "<br>  \n",
    "1. Retrieve - query a knowledge base and only return relevant text from data sources.  \n",
    "2. RetrieveAndGenerate - query a knowledge base and use a foundation model to generate responses based off the results from the data sources.  \n",
    "https://docs.aws.amazon.com/bedrock/latest/userguide/knowledge-base-api-query.html#w116aac45c37c35c11"
   ]
  },
  {
   "cell_type": "markdown",
   "metadata": {},
   "source": [
    "Start querying!\n",
    "- If you get a response stating cant answer the question, etc - the index is probably still propergating"
   ]
  },
  {
   "cell_type": "code",
   "execution_count": null,
   "metadata": {},
   "outputs": [],
   "source": [
    "# NOTE good examples of use of the KB\n",
    "promptkb='What are the risks of investing in cryptocurrency?'\n",
    "#promptkb='How do I choose which coins to invest in?'\n",
    "\n",
    "response = bedrockKBRun.retrieve_and_generate(\n",
    "    input={\n",
    "        'text': promptkb,\n",
    "    },\n",
    "    retrieveAndGenerateConfiguration={\n",
    "        'type': 'KNOWLEDGE_BASE',\n",
    "        'knowledgeBaseConfiguration': {\n",
    "            'knowledgeBaseId': myKBid,\n",
    "            'modelArn': myQueryingModelARN\n",
    "        }\n",
    "    }\n",
    ")\n",
    "\n",
    "print(\"GENERATED RESPONSE:\\n{}\".format(response['output']['text']))\n",
    "print(\"---------------------------------------\\n\")\n",
    "\n",
    "# A list of segments of the generated response that are based on sources in the knowledge base\n",
    "numCitations=len(response.get('citations'))\n",
    "print(\"NUMBER OF CITATIONS: {}\".format(numCitations))\n",
    "print(\"---------------------------------------\\n\")\n",
    "\n",
    "ic=0\n",
    "while ic <= numCitations-1:\n",
    "    print(\"CITATION: {}\".format(ic+1))\n",
    "    print(\"---------------------------------------\")\n",
    "\n",
    "    numReferences = len(response['citations'][ic].get('retrievedReferences'))\n",
    "    print(\"   NUMBER OF REFERENCES FOR CITATION {}: {}\".format(ic+1, numReferences))\n",
    "    print(\"   ---------------------------------------\")\n",
    "\n",
    "    print(\"   GENERATED TEXT: {}\".format(response['citations'][ic]['generatedResponsePart']['textResponsePart']['text']))\n",
    "    print(\"   ---------------------------------------\")\n",
    "\n",
    "    ir=0\n",
    "    while ir <= numReferences-1:\n",
    "        print(\"   REFERENCE: {}\".format(ir+1))\n",
    "        print(\"   ---------------------------------------\")\n",
    "\n",
    "        # reference ceted text used\n",
    "        print(\"      CITED TEXT: {}\".format(response['citations'][ic]['retrievedReferences'][ir]['content']))\n",
    "        print(\"      ---------------------------------------\")\n",
    "\n",
    "        # json metadata used as a filter\n",
    "        print(\"      METADATA USED: {}\".format(response['citations'][ic]['retrievedReferences'][ir]['metadata']))\n",
    "        print(\"      ---------------------------------------\")\n",
    "\n",
    "        # fata source s3 file\n",
    "        print(\"      S3 FILE: {}\".format(response['citations'][ic]['retrievedReferences'][ir]['location']))\n",
    "        print(\"      ---------------------------------------\")\n",
    "\n",
    "        ir +=1\n",
    "\n",
    "    ic +=1"
   ]
  },
  {
   "cell_type": "markdown",
   "metadata": {},
   "source": [
    "# <span style=\"color:DarkSeaGreen\">Move to Lab 2</span>\n",
    "# <span style=\"color:DarkSeaGreen\">OR...</span>\n",
    "# <span style=\"color:DarkSeaGreen\">Clean Up Architecture</span>\n",
    "### <span style=\"color:Red\">Only do this if you have finished with this lab and any labs that depend on it!</span>\n",
    "##### It will delete all architecture created, make sure you no longer need any of it!!!"
   ]
  },
  {
   "cell_type": "code",
   "execution_count": null,
   "metadata": {},
   "outputs": [],
   "source": [
    "# NOTE STOP STOP\n",
    "# NOTE only run this if you have lost the contents of your variables!!\n",
    "# NOTE if you have lost the kernel, you will need to manually get the dataSourceId and knowledgeBaseId from your account\n",
    "myKBid='DO NOT RUN UNLESS YOU HAVE LOST THE VARIABLE - GET FROM YOUR ACCOUNT'\n",
    "myDatasourceId='DO NOT RUN UNLESS YOU HAVE LOST THE VARIABLE - GET FROM YOUR ACCOUNT'\n",
    "myBucket='DO NOT RUN UNLESS YOU HAVE LOST THE VARIABLE - GET FROM YOUR ACCOUNT'"
   ]
  },
  {
   "cell_type": "markdown",
   "metadata": {},
   "source": [
    "- Start deleting from here - don't need to run the above if you still have kernel variables populated"
   ]
  },
  {
   "cell_type": "code",
   "execution_count": null,
   "metadata": {},
   "outputs": [],
   "source": [
    "# delete knowledge base\n",
    "bedrockKB.delete_knowledge_base(\n",
    "    knowledgeBaseId=myKBid\n",
    ")"
   ]
  },
  {
   "cell_type": "code",
   "execution_count": null,
   "metadata": {},
   "outputs": [],
   "source": [
    "# can take approx 1 mins to delete the kb\n",
    "try:\n",
    "    print(bedrockKB.get_knowledge_base(knowledgeBaseId=myKBid)['knowledgeBase']['status'])\n",
    "except:\n",
    "    print(\"Deleted!\")"
   ]
  },
  {
   "cell_type": "code",
   "execution_count": null,
   "metadata": {},
   "outputs": [],
   "source": [
    "# delete s3 vextor store index\n",
    "s3vectors.delete_index(\n",
    "    vectorBucketName=myVectorBucket,\n",
    "    indexName=myVectorIndex\n",
    ")"
   ]
  },
  {
   "cell_type": "code",
   "execution_count": null,
   "metadata": {},
   "outputs": [],
   "source": [
    "# delete vector bucket\n",
    "s3vectors.delete_vector_bucket(\n",
    "    vectorBucketName=myVectorBucket\n",
    ")"
   ]
  },
  {
   "cell_type": "code",
   "execution_count": null,
   "metadata": {},
   "outputs": [],
   "source": [
    "# delete roles and policies\n",
    "iam.detach_role_policy(\n",
    "    RoleName=myRoleKB, PolicyArn='arn:aws:iam::{}:policy/{}'.format(myAccountNumber, myPolicyKB1)\n",
    ")\n",
    "iam.detach_role_policy(\n",
    "    RoleName=myRoleKB, PolicyArn='arn:aws:iam::{}:policy/{}'.format(myAccountNumber, myPolicyKB3)\n",
    ")\n",
    "iam.delete_role(RoleName=myRoleKB)\n",
    "iam.delete_policy(PolicyArn='arn:aws:iam::{}:policy/{}'.format(myAccountNumber, myPolicyKB1))\n",
    "iam.delete_policy(PolicyArn='arn:aws:iam::{}:policy/{}'.format(myAccountNumber, myPolicyKB3))"
   ]
  },
  {
   "cell_type": "code",
   "execution_count": null,
   "metadata": {},
   "outputs": [],
   "source": [
    "# delete s3 bucket\n",
    "# NOTE WARNING - this will delete all objects in the bucket with NO prompt or confirmation\n",
    "s3r = boto3.resource('s3', region_name=myRegion, verify=where())\n",
    "bucket = s3r.Bucket(myBucket)\n",
    "bucket.objects.all().delete()\n",
    "\n",
    "# delete the bucket\n",
    "response = s3.delete_bucket(Bucket=myBucket)"
   ]
  },
  {
   "cell_type": "markdown",
   "metadata": {},
   "source": [
    "# <span style=\"color:DarkSeaGreen\">Clean Up venv</span>\n",
    "### Clean up if finished with this lab and running in VSCode or equivalent local IDE\n",
    "#### Note these are macOS specific\n",
    "- Run the commands of the cell below in a terminal window if you need to clean up a local venv\n",
    "  - Note if you copy and paste the entire cell and run as one you will get zsh: command not found: # errors because of the comments, but you can ignore\n",
    "  - Remember to restart the kernel to refresh whats available"
   ]
  },
  {
   "cell_type": "code",
   "execution_count": null,
   "metadata": {
    "vscode": {
     "languageId": "shellscript"
    }
   },
   "outputs": [],
   "source": [
    "# if you have local host in your terminal prompt\n",
    "unset HOST\n",
    "# deactivate the venv\n",
    "deactivate \n",
    "# remove it and its contents if not needed\n",
    "rm -rf venv-agentcore "
   ]
  }
 ],
 "metadata": {
  "kernelspec": {
   "display_name": "venv-agentcore (3.13.7)",
   "language": "python",
   "name": "python3"
  },
  "language_info": {
   "codemirror_mode": {
    "name": "ipython",
    "version": 3
   },
   "file_extension": ".py",
   "mimetype": "text/x-python",
   "name": "python",
   "nbconvert_exporter": "python",
   "pygments_lexer": "ipython3",
   "version": "3.13.7"
  }
 },
 "nbformat": 4,
 "nbformat_minor": 2
}
